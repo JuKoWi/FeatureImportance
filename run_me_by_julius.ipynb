{
 "cells": [
  {
   "cell_type": "code",
   "execution_count": 30,
   "metadata": {},
   "outputs": [
    {
     "data": {
      "text/plain": [
       "build_g2_matrix (generic function with 1 method)"
      ]
     },
     "metadata": {},
     "output_type": "display_data"
    }
   ],
   "source": [
    "using Flux\n",
    "using BSON: @load\n",
    "using Chemfiles\n",
    "using Plots\n",
    "\n",
    "struct G2\n",
    "    eta::Float64\n",
    "    rcutoff::Float64\n",
    "    rshift::Float64\n",
    "end\n",
    "\n",
    "function build_distance_matrix(frame)\n",
    "    N = length(frame)\n",
    "    return [distance(frame, i - 1, j - 1) for i in 1:N, j in 1:N]\n",
    "end\n",
    "\n",
    "function distance_cutoff(d, rcutoff=10.0)\n",
    "    return d > rcutoff ? 0.0 : 0.5 * (cos(π * d / rcutoff) + 1.0)\n",
    "end\n",
    "\n",
    "function compute_g2(distances, eta, rcutoff, rshift)\n",
    "    return sum(exp(-eta * (d - rshift)^2) * distance_cutoff(d, rcutoff) for d in distances if d > 0.0)\n",
    "end\n",
    "\n",
    "function build_g2_matrix(distance_matrix, g2_functions)\n",
    "    N = size(distance_matrix, 1)\n",
    "    g2_matrix = zeros(Float64, N, length(g2_functions))\n",
    "    for i in 1:N\n",
    "        distances = distance_matrix[i, :]\n",
    "        for (j, g2_func) in enumerate(g2_functions)\n",
    "            g2_matrix[i, j] = compute_g2(distances, g2_func.eta, g2_func.rcutoff, g2_func.rshift)\n",
    "        end\n",
    "    end\n",
    "    return g2_matrix\n",
    "end"
   ]
  },
  {
   "cell_type": "code",
   "execution_count": 31,
   "metadata": {},
   "outputs": [
    {
     "data": {
      "text/plain": [
       "9-element Vector{G2}:\n",
       " G2(0.0, 15.0, 0.0)\n",
       " G2(0.0, 5.5, 0.0)\n",
       " G2(10.456, 15.0, 3.0)\n",
       " G2(10.456, 15.0, 3.5)\n",
       " G2(10.456, 15.0, 4.0)\n",
       " G2(10.456, 15.0, 4.5)\n",
       " G2(10.456, 15.0, 5.0)\n",
       " G2(10.456, 15.0, 5.5)\n",
       " G2(10.456, 15.0, 6.0)"
      ]
     },
     "metadata": {},
     "output_type": "display_data"
    }
   ],
   "source": [
    "g2_list = [\n",
    "    G2(0.000, 15.0, 0.00),\n",
    "    G2(0.000, 5.50, 0.00),\n",
    "    G2(10.456, 15.0, 3.00),\n",
    "    G2(10.456, 15.0, 3.50),\n",
    "    G2(10.456, 15.0, 4.00),\n",
    "    G2(10.456, 15.0, 4.50),\n",
    "    G2(10.456, 15.0, 5.00),\n",
    "    G2(10.456, 15.0, 5.50),\n",
    "    G2(10.456, 15.0, 6.00),\n",
    " ]\n"
   ]
  },
  {
   "cell_type": "code",
   "execution_count": 32,
   "metadata": {},
   "outputs": [
    {
     "data": {
      "text/plain": [
       "9-element Vector{Float64}:\n",
       " 12.30243411459869\n",
       "  0.20949395483890032\n",
       "  0.06243498973004161\n",
       "  0.08989208640978126\n",
       "  0.1872136261615849\n",
       "  0.480960167769088\n",
       "  0.8467409983855325\n",
       "  1.0413003682166089\n",
       "  1.0649637174394784"
      ]
     },
     "metadata": {},
     "output_type": "display_data"
    }
   ],
   "source": [
    "traj = Trajectory(\"10Bu200step.xtc\")\n",
    "steps = length(traj)\n",
    "reference_input = zeros(length(g2_list))\n",
    "for i in 1:steps\n",
    "    frame = read(traj)\n",
    "    distance_mat = build_distance_matrix(frame)\n",
    "    g2_mat = build_g2_matrix(distance_mat, g2_list)\n",
    "    acc_vec = zeros(length(g2_list))\n",
    "        for row in 1:length(g2_mat[:, 1])\n",
    "            acc_vec .+= g2_mat[row, :]\n",
    "        end\n",
    "    reference_input .+= acc_vec / length(g2_mat[:, 1])\n",
    "    end\n",
    "\n",
    "reference_input = reference_input / steps"
   ]
  },
  {
   "cell_type": "code",
   "execution_count": 33,
   "metadata": {},
   "outputs": [
    {
     "data": {
      "text/plain": [
       "-45.9633934091875"
      ]
     },
     "metadata": {},
     "output_type": "display_data"
    }
   ],
   "source": [
    "MODEL_PATH = \"model-iter-47.bson\"\n",
    "@load MODEL_PATH model\n",
    "e_reference = model(reference_input)[1]"
   ]
  },
  {
   "cell_type": "markdown",
   "metadata": {},
   "source": [
    "Get the change of energy when ignoring the input of the ith symmetry function"
   ]
  },
  {
   "cell_type": "code",
   "execution_count": 34,
   "metadata": {},
   "outputs": [
    {
     "data": {
      "text/plain": [
       "9-element Vector{Float64}:\n",
       " -10.173531959194278\n",
       "   6.477674937005112\n",
       "   0.5408496580876587\n",
       "  -0.1905738996090065\n",
       "  -0.23535177767113424\n",
       "  -0.39475460220810277\n",
       "   0.017782306178659724\n",
       "   0.14215314993809613\n",
       "  -0.26631966785173944"
      ]
     },
     "metadata": {},
     "output_type": "display_data"
    }
   ],
   "source": [
    "delta_e = zeros(length(g2_list))\n",
    "for i in 1:length(g2_list)\n",
    "    input_vec = copy(reference_input)\n",
    "    input_vec[i] = 0\n",
    "    energy = model(input_vec)[1]\n",
    "    delta_e[i] = e_reference - energy\n",
    "end\n",
    "\n",
    "delta_e\n"
   ]
  },
  {
   "cell_type": "code",
   "execution_count": 35,
   "metadata": {},
   "outputs": [],
   "source": []
  }
 ],
 "metadata": {
  "kernelspec": {
   "display_name": "Julia 1.11.0",
   "language": "julia",
   "name": "julia-1.11"
  },
  "language_info": {
   "file_extension": ".jl",
   "mimetype": "application/julia",
   "name": "julia",
   "version": "1.11.0"
  }
 },
 "nbformat": 4,
 "nbformat_minor": 2
}
