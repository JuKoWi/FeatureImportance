{
 "cells": [
  {
   "cell_type": "code",
   "execution_count": 30,
   "metadata": {},
   "outputs": [
    {
     "data": {
      "text/plain": [
       "build_g2_matrix (generic function with 1 method)"
      ]
     },
     "metadata": {},
     "output_type": "display_data"
    }
   ],
   "source": [
    "using Flux\n",
    "using BSON: @load\n",
    "using Chemfiles\n",
    "using Plots\n",
    "\n",
    "struct G2\n",
    "    eta::Float64\n",
    "    rcutoff::Float64\n",
    "    rshift::Float64\n",
    "end\n",
    "\n",
    "function build_distance_matrix(frame)\n",
    "    N = length(frame)\n",
    "    return [distance(frame, i - 1, j - 1) for i in 1:N, j in 1:N]\n",
    "end\n",
    "\n",
    "function distance_cutoff(d, rcutoff=10.0)\n",
    "    return d > rcutoff ? 0.0 : 0.5 * (cos(π * d / rcutoff) + 1.0)\n",
    "end\n",
    "\n",
    "function compute_g2(distances, eta, rcutoff, rshift)\n",
    "    return sum(exp(-eta * (d - rshift)^2) * distance_cutoff(d, rcutoff) for d in distances if d > 0.0)\n",
    "end\n",
    "\n",
    "function build_g2_matrix(distance_matrix, g2_functions)\n",
    "    N = size(distance_matrix, 1)\n",
    "    g2_matrix = zeros(Float64, N, length(g2_functions))\n",
    "    for i in 1:N\n",
    "        distances = distance_matrix[i, :]\n",
    "        for (j, g2_func) in enumerate(g2_functions)\n",
    "            g2_matrix[i, j] = compute_g2(distances, g2_func.eta, g2_func.rcutoff, g2_func.rshift)\n",
    "        end\n",
    "    end\n",
    "    return g2_matrix\n",
    "end"
   ]
  },
  {
   "cell_type": "code",
   "execution_count": 31,
   "metadata": {},
   "outputs": [
    {
     "data": {
      "text/plain": [
       "9-element Vector{G2}:\n",
       " G2(0.0, 15.0, 0.0)\n",
       " G2(0.0, 5.5, 0.0)\n",
       " G2(10.456, 15.0, 3.0)\n",
       " G2(10.456, 15.0, 3.5)\n",
       " G2(10.456, 15.0, 4.0)\n",
       " G2(10.456, 15.0, 4.5)\n",
       " G2(10.456, 15.0, 5.0)\n",
       " G2(10.456, 15.0, 5.5)\n",
       " G2(10.456, 15.0, 6.0)"
      ]
     },
     "metadata": {},
     "output_type": "display_data"
    }
   ],
   "source": [
    "g2_list = [\n",
    "    G2(0.000, 15.0, 0.00),\n",
    "    G2(0.000, 5.50, 0.00),\n",
    "    G2(10.456, 15.0, 3.00),\n",
    "    G2(10.456, 15.0, 3.50),\n",
    "    G2(10.456, 15.0, 4.00),\n",
    "    G2(10.456, 15.0, 4.50),\n",
    "    G2(10.456, 15.0, 5.00),\n",
    "    G2(10.456, 15.0, 5.50),\n",
    "    G2(10.456, 15.0, 6.00),\n",
    " ]\n"
   ]
  },
  {
   "cell_type": "code",
   "execution_count": 32,
   "metadata": {},
   "outputs": [
    {
     "data": {
      "text/plain": [
       "9-element Vector{Float64}:\n",
       " 12.30243411459869\n",
       "  0.20949395483890032\n",
       "  0.06243498973004161\n",
       "  0.08989208640978126\n",
       "  0.1872136261615849\n",
       "  0.480960167769088\n",
       "  0.8467409983855325\n",
       "  1.0413003682166089\n",
       "  1.0649637174394784"
      ]
     },
     "metadata": {},
     "output_type": "display_data"
    }
   ],
   "source": [
    "traj = Trajectory(\"10Bu200step.xtc\")\n",
    "steps = length(traj)\n",
    "reference_input = zeros(length(g2_list))\n",
    "for i in 1:steps\n",
    "    frame = read(traj)\n",
    "    distance_mat = build_distance_matrix(frame)\n",
    "    g2_mat = build_g2_matrix(distance_mat, g2_list)\n",
    "    acc_vec = zeros(length(g2_list))\n",
    "        for row in 1:length(g2_mat[:, 1])\n",
    "            acc_vec .+= g2_mat[row, :]\n",
    "        end\n",
    "    reference_input .+= acc_vec / length(g2_mat[:, 1])\n",
    "    end\n",
    "\n",
    "reference_input = reference_input / steps"
   ]
  },
  {
   "cell_type": "code",
   "execution_count": 33,
   "metadata": {},
   "outputs": [
    {
     "data": {
      "text/plain": [
       "-45.9633934091875"
      ]
     },
     "metadata": {},
     "output_type": "display_data"
    }
   ],
   "source": [
    "MODEL_PATH = \"model-iter-47.bson\"\n",
    "@load MODEL_PATH model\n",
    "e_reference = model(reference_input)[1]"
   ]
  },
  {
   "cell_type": "markdown",
   "metadata": {},
   "source": [
    "Get the change of energy when ignoring the input of the ith symmetry function"
   ]
  },
  {
   "cell_type": "code",
   "execution_count": 34,
   "metadata": {},
   "outputs": [
    {
     "data": {
      "text/plain": [
       "9-element Vector{Float64}:\n",
       " -10.173531959194278\n",
       "   6.477674937005112\n",
       "   0.5408496580876587\n",
       "  -0.1905738996090065\n",
       "  -0.23535177767113424\n",
       "  -0.39475460220810277\n",
       "   0.017782306178659724\n",
       "   0.14215314993809613\n",
       "  -0.26631966785173944"
      ]
     },
     "metadata": {},
     "output_type": "display_data"
    }
   ],
   "source": [
    "delta_e = zeros(length(g2_list))\n",
    "for i in 1:length(g2_list)\n",
    "    input_vec = copy(reference_input)\n",
    "    input_vec[i] = 0\n",
    "    energy = model(input_vec)[1]\n",
    "    delta_e[i] = e_reference - energy\n",
    "end\n",
    "\n",
    "delta_e\n"
   ]
  },
  {
   "cell_type": "code",
   "execution_count": 51,
   "metadata": {},
   "outputs": [
    {
     "data": {
      "image/png": "[encoded data removed]",
      "image/svg+xml": [
       "<?xml version=\"1.0\" encoding=\"utf-8\"?>\n",
       "<svg xmlns=\"http://www.w3.org/2000/svg\" xmlns:xlink=\"http://www.w3.org/1999/xlink\" width=\"600\" height=\"400\" viewBox=\"0 0 2400 1600\">\n",
       "<defs>\n",
       "  <clipPath id=\"clip450\">\n",
       "    <rect x=\"0\" y=\"0\" width=\"2400\" height=\"1600\"/>\n",
       "  </clipPath>\n",
       "</defs>\n",
       "<path clip-path=\"url(#clip450)\" d=\"M0 1600 L2400 1600 L2400 0 L0 0  Z\" fill=\"#ffffff\" fill-rule=\"evenodd\" fill-opacity=\"1\"/>\n",
       "<defs>\n",
       "  <clipPath id=\"clip451\">\n",
       "    <rect x=\"480\" y=\"0\" width=\"1681\" height=\"1600\"/>\n",
       "  </clipPath>\n",
       "</defs>\n",
       "<path clip-path=\"url(#clip450)\" d=\"M178.867 1486.45 L2352.76 1486.45 L2352.76 47.2441 L178.867 47.2441  Z\" fill=\"#ffffff\" fill-rule=\"evenodd\" fill-opacity=\"1\"/>\n",
       "<defs>\n",
       "  <clipPath id=\"clip452\">\n",
       "    <rect x=\"178\" y=\"47\" width=\"2175\" height=\"1440\"/>\n",
       "  </clipPath>\n",
       "</defs>\n",
       "<polyline clip-path=\"url(#clip452)\" style=\"stroke:#000000; stroke-linecap:round; stroke-linejoin:round; stroke-width:2; stroke-opacity:1; fill:none\" points=\"496.747,1486.45 496.747,47.2441 \"/>\n",
       "<polyline clip-path=\"url(#clip452)\" style=\"stroke:#000000; stroke-linecap:round; stroke-linejoin:round; stroke-width:2; stroke-opacity:1; fill:none\" points=\"1009.46,1486.45 1009.46,47.2441 \"/>\n",
       "<polyline clip-path=\"url(#clip452)\" style=\"stroke:#000000; stroke-linecap:round; stroke-linejoin:round; stroke-width:2; stroke-opacity:1; fill:none\" points=\"1522.17,1486.45 1522.17,47.2441 \"/>\n",
       "<polyline clip-path=\"url(#clip452)\" style=\"stroke:#000000; stroke-linecap:round; stroke-linejoin:round; stroke-width:2; stroke-opacity:1; fill:none\" points=\"2034.88,1486.45 2034.88,47.2441 \"/>\n",
       "<polyline clip-path=\"url(#clip452)\" style=\"stroke:#000000; stroke-linecap:round; stroke-linejoin:round; stroke-width:2; stroke-opacity:1; fill:none\" points=\"178.867,1431.57 2352.76,1431.57 \"/>\n",
       "<polyline clip-path=\"url(#clip452)\" style=\"stroke:#000000; stroke-linecap:round; stroke-linejoin:round; stroke-width:2; stroke-opacity:1; fill:none\" points=\"178.867,1023.87 2352.76,1023.87 \"/>\n",
       "<polyline clip-path=\"url(#clip452)\" style=\"stroke:#000000; stroke-linecap:round; stroke-linejoin:round; stroke-width:2; stroke-opacity:1; fill:none\" points=\"178.867,616.166 2352.76,616.166 \"/>\n",
       "<polyline clip-path=\"url(#clip452)\" style=\"stroke:#000000; stroke-linecap:round; stroke-linejoin:round; stroke-width:2; stroke-opacity:1; fill:none\" points=\"178.867,208.466 2352.76,208.466 \"/>\n",
       "<polyline clip-path=\"url(#clip450)\" style=\"stroke:#000000; stroke-linecap:round; stroke-linejoin:round; stroke-width:4; stroke-opacity:1; fill:none\" points=\"178.867,1486.45 2352.76,1486.45 \"/>\n",
       "<polyline clip-path=\"url(#clip450)\" style=\"stroke:#000000; stroke-linecap:round; stroke-linejoin:round; stroke-width:4; stroke-opacity:1; fill:none\" points=\"496.747,1486.45 496.747,1467.55 \"/>\n",
       "<polyline clip-path=\"url(#clip450)\" style=\"stroke:#000000; stroke-linecap:round; stroke-linejoin:round; stroke-width:4; stroke-opacity:1; fill:none\" points=\"1009.46,1486.45 1009.46,1467.55 \"/>\n",
       "<polyline clip-path=\"url(#clip450)\" style=\"stroke:#000000; stroke-linecap:round; stroke-linejoin:round; stroke-width:4; stroke-opacity:1; fill:none\" points=\"1522.17,1486.45 1522.17,1467.55 \"/>\n",
       "<polyline clip-path=\"url(#clip450)\" style=\"stroke:#000000; stroke-linecap:round; stroke-linejoin:round; stroke-width:4; stroke-opacity:1; fill:none\" points=\"2034.88,1486.45 2034.88,1467.55 \"/>\n",
       "<path clip-path=\"url(#clip450)\" d=\"M491.399 1544.91 L507.719 1544.91 L507.719 1548.85 L485.775 1548.85 L485.775 1544.91 Q488.437 1542.16 493.02 1537.53 Q497.626 1532.88 498.807 1531.53 Q501.052 1529.01 501.932 1527.27 Q502.835 1525.51 502.835 1523.82 Q502.835 1521.07 500.89 1519.33 Q498.969 1517.6 495.867 1517.6 Q493.668 1517.6 491.214 1518.36 Q488.784 1519.13 486.006 1520.68 L486.006 1515.95 Q488.83 1514.82 491.284 1514.24 Q493.737 1513.66 495.774 1513.66 Q501.145 1513.66 504.339 1516.35 Q507.534 1519.03 507.534 1523.52 Q507.534 1525.65 506.723 1527.57 Q505.936 1529.47 503.83 1532.07 Q503.251 1532.74 500.149 1535.95 Q497.048 1539.15 491.399 1544.91 Z\" fill=\"#000000\" fill-rule=\"nonzero\" fill-opacity=\"1\" /><path clip-path=\"url(#clip450)\" d=\"M1012.47 1518.36 L1000.66 1536.81 L1012.47 1536.81 L1012.47 1518.36 M1011.24 1514.29 L1017.12 1514.29 L1017.12 1536.81 L1022.05 1536.81 L1022.05 1540.7 L1017.12 1540.7 L1017.12 1548.85 L1012.47 1548.85 L1012.47 1540.7 L996.864 1540.7 L996.864 1536.19 L1011.24 1514.29 Z\" fill=\"#000000\" fill-rule=\"nonzero\" fill-opacity=\"1\" /><path clip-path=\"url(#clip450)\" d=\"M1522.57 1529.7 Q1519.42 1529.7 1517.57 1531.86 Q1515.74 1534.01 1515.74 1537.76 Q1515.74 1541.49 1517.57 1543.66 Q1519.42 1545.82 1522.57 1545.82 Q1525.72 1545.82 1527.55 1543.66 Q1529.4 1541.49 1529.4 1537.76 Q1529.4 1534.01 1527.55 1531.86 Q1525.72 1529.7 1522.57 1529.7 M1531.85 1515.05 L1531.85 1519.31 Q1530.09 1518.48 1528.29 1518.04 Q1526.51 1517.6 1524.75 1517.6 Q1520.12 1517.6 1517.66 1520.72 Q1515.23 1523.85 1514.89 1530.17 Q1516.25 1528.15 1518.31 1527.09 Q1520.37 1526 1522.85 1526 Q1528.06 1526 1531.07 1529.17 Q1534.1 1532.32 1534.1 1537.76 Q1534.1 1543.08 1530.95 1546.3 Q1527.8 1549.52 1522.57 1549.52 Q1516.58 1549.52 1513.4 1544.94 Q1510.23 1540.33 1510.23 1531.6 Q1510.23 1523.41 1514.12 1518.55 Q1518.01 1513.66 1524.56 1513.66 Q1526.32 1513.66 1528.1 1514.01 Q1529.91 1514.36 1531.85 1515.05 Z\" fill=\"#000000\" fill-rule=\"nonzero\" fill-opacity=\"1\" /><path clip-path=\"url(#clip450)\" d=\"M2034.88 1532.44 Q2031.54 1532.44 2029.62 1534.22 Q2027.72 1536 2027.72 1539.13 Q2027.72 1542.25 2029.62 1544.03 Q2031.54 1545.82 2034.88 1545.82 Q2038.21 1545.82 2040.13 1544.03 Q2042.05 1542.23 2042.05 1539.13 Q2042.05 1536 2040.13 1534.22 Q2038.23 1532.44 2034.88 1532.44 M2030.2 1530.45 Q2027.19 1529.7 2025.5 1527.64 Q2023.83 1525.58 2023.83 1522.62 Q2023.83 1518.48 2026.77 1516.07 Q2029.74 1513.66 2034.88 1513.66 Q2040.04 1513.66 2042.98 1516.07 Q2045.92 1518.48 2045.92 1522.62 Q2045.92 1525.58 2044.23 1527.64 Q2042.56 1529.7 2039.57 1530.45 Q2042.95 1531.23 2044.83 1533.52 Q2046.73 1535.82 2046.73 1539.13 Q2046.73 1544.15 2043.65 1546.83 Q2040.59 1549.52 2034.88 1549.52 Q2029.16 1549.52 2026.08 1546.83 Q2023.02 1544.15 2023.02 1539.13 Q2023.02 1535.82 2024.92 1533.52 Q2026.82 1531.23 2030.2 1530.45 M2028.49 1523.06 Q2028.49 1525.75 2030.15 1527.25 Q2031.84 1528.76 2034.88 1528.76 Q2037.89 1528.76 2039.57 1527.25 Q2041.29 1525.75 2041.29 1523.06 Q2041.29 1520.38 2039.57 1518.87 Q2037.89 1517.37 2034.88 1517.37 Q2031.84 1517.37 2030.15 1518.87 Q2028.49 1520.38 2028.49 1523.06 Z\" fill=\"#000000\" fill-rule=\"nonzero\" fill-opacity=\"1\" /><polyline clip-path=\"url(#clip450)\" style=\"stroke:#000000; stroke-linecap:round; stroke-linejoin:round; stroke-width:4; stroke-opacity:1; fill:none\" points=\"178.867,1486.45 178.867,47.2441 \"/>\n",
       "<polyline clip-path=\"url(#clip450)\" style=\"stroke:#000000; stroke-linecap:round; stroke-linejoin:round; stroke-width:4; stroke-opacity:1; fill:none\" points=\"178.867,1431.57 197.764,1431.57 \"/>\n",
       "<polyline clip-path=\"url(#clip450)\" style=\"stroke:#000000; stroke-linecap:round; stroke-linejoin:round; stroke-width:4; stroke-opacity:1; fill:none\" points=\"178.867,1023.87 197.764,1023.87 \"/>\n",
       "<polyline clip-path=\"url(#clip450)\" style=\"stroke:#000000; stroke-linecap:round; stroke-linejoin:round; stroke-width:4; stroke-opacity:1; fill:none\" points=\"178.867,616.166 197.764,616.166 \"/>\n",
       "<polyline clip-path=\"url(#clip450)\" style=\"stroke:#000000; stroke-linecap:round; stroke-linejoin:round; stroke-width:4; stroke-opacity:1; fill:none\" points=\"178.867,208.466 197.764,208.466 \"/>\n",
       "<path clip-path=\"url(#clip450)\" d=\"M50.9921 1432.02 L80.6679 1432.02 L80.6679 1435.95 L50.9921 1435.95 L50.9921 1432.02 Z\" fill=\"#000000\" fill-rule=\"nonzero\" fill-opacity=\"1\" /><path clip-path=\"url(#clip450)\" d=\"M91.5706 1444.91 L99.2095 1444.91 L99.2095 1418.55 L90.8993 1420.21 L90.8993 1415.95 L99.1632 1414.29 L103.839 1414.29 L103.839 1444.91 L111.478 1444.91 L111.478 1448.85 L91.5706 1448.85 L91.5706 1444.91 Z\" fill=\"#000000\" fill-rule=\"nonzero\" fill-opacity=\"1\" /><path clip-path=\"url(#clip450)\" d=\"M130.922 1417.36 Q127.311 1417.36 125.482 1420.93 Q123.677 1424.47 123.677 1431.6 Q123.677 1438.71 125.482 1442.27 Q127.311 1445.81 130.922 1445.81 Q134.556 1445.81 136.362 1442.27 Q138.191 1438.71 138.191 1431.6 Q138.191 1424.47 136.362 1420.93 Q134.556 1417.36 130.922 1417.36 M130.922 1413.66 Q136.732 1413.66 139.788 1418.27 Q142.867 1422.85 142.867 1431.6 Q142.867 1440.33 139.788 1444.93 Q136.732 1449.52 130.922 1449.52 Q125.112 1449.52 122.033 1444.93 Q118.978 1440.33 118.978 1431.6 Q118.978 1422.85 122.033 1418.27 Q125.112 1413.66 130.922 1413.66 Z\" fill=\"#000000\" fill-rule=\"nonzero\" fill-opacity=\"1\" /><path clip-path=\"url(#clip450)\" d=\"M82.1494 1024.32 L111.825 1024.32 L111.825 1028.25 L82.1494 1028.25 L82.1494 1024.32 Z\" fill=\"#000000\" fill-rule=\"nonzero\" fill-opacity=\"1\" /><path clip-path=\"url(#clip450)\" d=\"M121.964 1006.59 L140.32 1006.59 L140.32 1010.52 L126.246 1010.52 L126.246 1018.99 Q127.265 1018.65 128.283 1018.48 Q129.302 1018.3 130.32 1018.3 Q136.107 1018.3 139.487 1021.47 Q142.867 1024.64 142.867 1030.06 Q142.867 1035.64 139.394 1038.74 Q135.922 1041.82 129.603 1041.82 Q127.427 1041.82 125.158 1041.45 Q122.913 1041.08 120.506 1040.34 L120.506 1035.64 Q122.589 1036.77 124.811 1037.33 Q127.033 1037.88 129.51 1037.88 Q133.515 1037.88 135.853 1035.78 Q138.191 1033.67 138.191 1030.06 Q138.191 1026.45 135.853 1024.34 Q133.515 1022.23 129.51 1022.23 Q127.635 1022.23 125.76 1022.65 Q123.908 1023.07 121.964 1023.95 L121.964 1006.59 Z\" fill=\"#000000\" fill-rule=\"nonzero\" fill-opacity=\"1\" /><path clip-path=\"url(#clip450)\" d=\"M130.922 601.965 Q127.311 601.965 125.482 605.529 Q123.677 609.071 123.677 616.201 Q123.677 623.307 125.482 626.872 Q127.311 630.414 130.922 630.414 Q134.556 630.414 136.362 626.872 Q138.191 623.307 138.191 616.201 Q138.191 609.071 136.362 605.529 Q134.556 601.965 130.922 601.965 M130.922 598.261 Q136.732 598.261 139.788 602.867 Q142.867 607.451 142.867 616.201 Q142.867 624.927 139.788 629.534 Q136.732 634.117 130.922 634.117 Q125.112 634.117 122.033 629.534 Q118.978 624.927 118.978 616.201 Q118.978 607.451 122.033 602.867 Q125.112 598.261 130.922 598.261 Z\" fill=\"#000000\" fill-rule=\"nonzero\" fill-opacity=\"1\" /><path clip-path=\"url(#clip450)\" d=\"M121.964 191.186 L140.32 191.186 L140.32 195.121 L126.246 195.121 L126.246 203.593 Q127.265 203.246 128.283 203.084 Q129.302 202.899 130.32 202.899 Q136.107 202.899 139.487 206.07 Q142.867 209.241 142.867 214.658 Q142.867 220.237 139.394 223.338 Q135.922 226.417 129.603 226.417 Q127.427 226.417 125.158 226.047 Q122.913 225.676 120.506 224.936 L120.506 220.237 Q122.589 221.371 124.811 221.926 Q127.033 222.482 129.51 222.482 Q133.515 222.482 135.853 220.376 Q138.191 218.269 138.191 214.658 Q138.191 211.047 135.853 208.94 Q133.515 206.834 129.51 206.834 Q127.635 206.834 125.76 207.251 Q123.908 207.667 121.964 208.547 L121.964 191.186 Z\" fill=\"#000000\" fill-rule=\"nonzero\" fill-opacity=\"1\" /><circle clip-path=\"url(#clip452)\" cx=\"240.392\" cy=\"1445.72\" r=\"14.4\" fill=\"#009af9\" fill-rule=\"evenodd\" fill-opacity=\"1\" stroke=\"#000000\" stroke-opacity=\"1\" stroke-width=\"3.2\"/>\n",
       "<circle clip-path=\"url(#clip452)\" cx=\"496.747\" cy=\"87.9763\" r=\"14.4\" fill=\"#009af9\" fill-rule=\"evenodd\" fill-opacity=\"1\" stroke=\"#000000\" stroke-opacity=\"1\" stroke-width=\"3.2\"/>\n",
       "<circle clip-path=\"url(#clip452)\" cx=\"753.102\" cy=\"572.065\" r=\"14.4\" fill=\"#009af9\" fill-rule=\"evenodd\" fill-opacity=\"1\" stroke=\"#000000\" stroke-opacity=\"1\" stroke-width=\"3.2\"/>\n",
       "<circle clip-path=\"url(#clip452)\" cx=\"1009.46\" cy=\"631.705\" r=\"14.4\" fill=\"#009af9\" fill-rule=\"evenodd\" fill-opacity=\"1\" stroke=\"#000000\" stroke-opacity=\"1\" stroke-width=\"3.2\"/>\n",
       "<circle clip-path=\"url(#clip452)\" cx=\"1265.81\" cy=\"635.356\" r=\"14.4\" fill=\"#009af9\" fill-rule=\"evenodd\" fill-opacity=\"1\" stroke=\"#000000\" stroke-opacity=\"1\" stroke-width=\"3.2\"/>\n",
       "<circle clip-path=\"url(#clip452)\" cx=\"1522.17\" cy=\"648.354\" r=\"14.4\" fill=\"#009af9\" fill-rule=\"evenodd\" fill-opacity=\"1\" stroke=\"#000000\" stroke-opacity=\"1\" stroke-width=\"3.2\"/>\n",
       "<circle clip-path=\"url(#clip452)\" cx=\"1778.52\" cy=\"614.716\" r=\"14.4\" fill=\"#009af9\" fill-rule=\"evenodd\" fill-opacity=\"1\" stroke=\"#000000\" stroke-opacity=\"1\" stroke-width=\"3.2\"/>\n",
       "<circle clip-path=\"url(#clip452)\" cx=\"2034.88\" cy=\"604.575\" r=\"14.4\" fill=\"#009af9\" fill-rule=\"evenodd\" fill-opacity=\"1\" stroke=\"#000000\" stroke-opacity=\"1\" stroke-width=\"3.2\"/>\n",
       "<circle clip-path=\"url(#clip452)\" cx=\"2291.23\" cy=\"637.882\" r=\"14.4\" fill=\"#009af9\" fill-rule=\"evenodd\" fill-opacity=\"1\" stroke=\"#000000\" stroke-opacity=\"1\" stroke-width=\"3.2\"/>\n",
       "<path clip-path=\"url(#clip450)\" d=\"M2010.47 198.898 L2280.29 198.898 L2280.29 95.2176 L2010.47 95.2176  Z\" fill=\"#ffffff\" fill-rule=\"evenodd\" fill-opacity=\"1\"/>\n",
       "<polyline clip-path=\"url(#clip450)\" style=\"stroke:#000000; stroke-linecap:round; stroke-linejoin:round; stroke-width:4; stroke-opacity:1; fill:none\" points=\"2010.47,198.898 2280.29,198.898 2280.29,95.2176 2010.47,95.2176 2010.47,198.898 \"/>\n",
       "<circle clip-path=\"url(#clip450)\" cx=\"2107.09\" cy=\"147.058\" r=\"20.48\" fill=\"#009af9\" fill-rule=\"evenodd\" fill-opacity=\"1\" stroke=\"#000000\" stroke-opacity=\"1\" stroke-width=\"4.55111\"/>\n",
       "<path clip-path=\"url(#clip450)\" d=\"M2217.55 166.745 Q2215.75 171.375 2214.03 172.787 Q2212.32 174.199 2209.45 174.199 L2206.05 174.199 L2206.05 170.634 L2208.55 170.634 Q2210.31 170.634 2211.28 169.8 Q2212.25 168.967 2213.43 165.865 L2214.19 163.921 L2203.71 138.412 L2208.22 138.412 L2216.32 158.689 L2224.43 138.412 L2228.94 138.412 L2217.55 166.745 Z\" fill=\"#000000\" fill-rule=\"nonzero\" fill-opacity=\"1\" /><path clip-path=\"url(#clip450)\" d=\"M2236.23 160.402 L2243.87 160.402 L2243.87 134.037 L2235.56 135.703 L2235.56 131.444 L2243.82 129.778 L2248.5 129.778 L2248.5 160.402 L2256.14 160.402 L2256.14 164.338 L2236.23 164.338 L2236.23 160.402 Z\" fill=\"#000000\" fill-rule=\"nonzero\" fill-opacity=\"1\" /></svg>\n"
      ],
      "text/html": [
       "<?xml version=\"1.0\" encoding=\"utf-8\"?>\n",
       "<svg xmlns=\"http://www.w3.org/2000/svg\" xmlns:xlink=\"http://www.w3.org/1999/xlink\" width=\"600\" height=\"400\" viewBox=\"0 0 2400 1600\">\n",
       "<defs>\n",
       "  <clipPath id=\"clip500\">\n",
       "    <rect x=\"0\" y=\"0\" width=\"2400\" height=\"1600\"/>\n",
       "  </clipPath>\n",
       "</defs>\n",
       "<path clip-path=\"url(#clip500)\" d=\"M0 1600 L2400 1600 L2400 0 L0 0  Z\" fill=\"#ffffff\" fill-rule=\"evenodd\" fill-opacity=\"1\"/>\n",
       "<defs>\n",
       "  <clipPath id=\"clip501\">\n",
       "    <rect x=\"480\" y=\"0\" width=\"1681\" height=\"1600\"/>\n",
       "  </clipPath>\n",
       "</defs>\n",
       "<path clip-path=\"url(#clip500)\" d=\"M178.867 1486.45 L2352.76 1486.45 L2352.76 47.2441 L178.867 47.2441  Z\" fill=\"#ffffff\" fill-rule=\"evenodd\" fill-opacity=\"1\"/>\n",
       "<defs>\n",
       "  <clipPath id=\"clip502\">\n",
       "    <rect x=\"178\" y=\"47\" width=\"2175\" height=\"1440\"/>\n",
       "  </clipPath>\n",
       "</defs>\n",
       "<polyline clip-path=\"url(#clip502)\" style=\"stroke:#000000; stroke-linecap:round; stroke-linejoin:round; stroke-width:2; stroke-opacity:1; fill:none\" points=\"496.747,1486.45 496.747,47.2441 \"/>\n",
       "<polyline clip-path=\"url(#clip502)\" style=\"stroke:#000000; stroke-linecap:round; stroke-linejoin:round; stroke-width:2; stroke-opacity:1; fill:none\" points=\"1009.46,1486.45 1009.46,47.2441 \"/>\n",
       "<polyline clip-path=\"url(#clip502)\" style=\"stroke:#000000; stroke-linecap:round; stroke-linejoin:round; stroke-width:2; stroke-opacity:1; fill:none\" points=\"1522.17,1486.45 1522.17,47.2441 \"/>\n",
       "<polyline clip-path=\"url(#clip502)\" style=\"stroke:#000000; stroke-linecap:round; stroke-linejoin:round; stroke-width:2; stroke-opacity:1; fill:none\" points=\"2034.88,1486.45 2034.88,47.2441 \"/>\n",
       "<polyline clip-path=\"url(#clip502)\" style=\"stroke:#000000; stroke-linecap:round; stroke-linejoin:round; stroke-width:2; stroke-opacity:1; fill:none\" points=\"178.867,1431.57 2352.76,1431.57 \"/>\n",
       "<polyline clip-path=\"url(#clip502)\" style=\"stroke:#000000; stroke-linecap:round; stroke-linejoin:round; stroke-width:2; stroke-opacity:1; fill:none\" points=\"178.867,1023.87 2352.76,1023.87 \"/>\n",
       "<polyline clip-path=\"url(#clip502)\" style=\"stroke:#000000; stroke-linecap:round; stroke-linejoin:round; stroke-width:2; stroke-opacity:1; fill:none\" points=\"178.867,616.166 2352.76,616.166 \"/>\n",
       "<polyline clip-path=\"url(#clip502)\" style=\"stroke:#000000; stroke-linecap:round; stroke-linejoin:round; stroke-width:2; stroke-opacity:1; fill:none\" points=\"178.867,208.466 2352.76,208.466 \"/>\n",
       "<polyline clip-path=\"url(#clip500)\" style=\"stroke:#000000; stroke-linecap:round; stroke-linejoin:round; stroke-width:4; stroke-opacity:1; fill:none\" points=\"178.867,1486.45 2352.76,1486.45 \"/>\n",
       "<polyline clip-path=\"url(#clip500)\" style=\"stroke:#000000; stroke-linecap:round; stroke-linejoin:round; stroke-width:4; stroke-opacity:1; fill:none\" points=\"496.747,1486.45 496.747,1467.55 \"/>\n",
       "<polyline clip-path=\"url(#clip500)\" style=\"stroke:#000000; stroke-linecap:round; stroke-linejoin:round; stroke-width:4; stroke-opacity:1; fill:none\" points=\"1009.46,1486.45 1009.46,1467.55 \"/>\n",
       "<polyline clip-path=\"url(#clip500)\" style=\"stroke:#000000; stroke-linecap:round; stroke-linejoin:round; stroke-width:4; stroke-opacity:1; fill:none\" points=\"1522.17,1486.45 1522.17,1467.55 \"/>\n",
       "<polyline clip-path=\"url(#clip500)\" style=\"stroke:#000000; stroke-linecap:round; stroke-linejoin:round; stroke-width:4; stroke-opacity:1; fill:none\" points=\"2034.88,1486.45 2034.88,1467.55 \"/>\n",
       "<path clip-path=\"url(#clip500)\" d=\"M491.399 1544.91 L507.719 1544.91 L507.719 1548.85 L485.775 1548.85 L485.775 1544.91 Q488.437 1542.16 493.02 1537.53 Q497.626 1532.88 498.807 1531.53 Q501.052 1529.01 501.932 1527.27 Q502.835 1525.51 502.835 1523.82 Q502.835 1521.07 500.89 1519.33 Q498.969 1517.6 495.867 1517.6 Q493.668 1517.6 491.214 1518.36 Q488.784 1519.13 486.006 1520.68 L486.006 1515.95 Q488.83 1514.82 491.284 1514.24 Q493.737 1513.66 495.774 1513.66 Q501.145 1513.66 504.339 1516.35 Q507.534 1519.03 507.534 1523.52 Q507.534 1525.65 506.723 1527.57 Q505.936 1529.47 503.83 1532.07 Q503.251 1532.74 500.149 1535.95 Q497.048 1539.15 491.399 1544.91 Z\" fill=\"#000000\" fill-rule=\"nonzero\" fill-opacity=\"1\" /><path clip-path=\"url(#clip500)\" d=\"M1012.47 1518.36 L1000.66 1536.81 L1012.47 1536.81 L1012.47 1518.36 M1011.24 1514.29 L1017.12 1514.29 L1017.12 1536.81 L1022.05 1536.81 L1022.05 1540.7 L1017.12 1540.7 L1017.12 1548.85 L1012.47 1548.85 L1012.47 1540.7 L996.864 1540.7 L996.864 1536.19 L1011.24 1514.29 Z\" fill=\"#000000\" fill-rule=\"nonzero\" fill-opacity=\"1\" /><path clip-path=\"url(#clip500)\" d=\"M1522.57 1529.7 Q1519.42 1529.7 1517.57 1531.86 Q1515.74 1534.01 1515.74 1537.76 Q1515.74 1541.49 1517.57 1543.66 Q1519.42 1545.82 1522.57 1545.82 Q1525.72 1545.82 1527.55 1543.66 Q1529.4 1541.49 1529.4 1537.76 Q1529.4 1534.01 1527.55 1531.86 Q1525.72 1529.7 1522.57 1529.7 M1531.85 1515.05 L1531.85 1519.31 Q1530.09 1518.48 1528.29 1518.04 Q1526.51 1517.6 1524.75 1517.6 Q1520.12 1517.6 1517.66 1520.72 Q1515.23 1523.85 1514.89 1530.17 Q1516.25 1528.15 1518.31 1527.09 Q1520.37 1526 1522.85 1526 Q1528.06 1526 1531.07 1529.17 Q1534.1 1532.32 1534.1 1537.76 Q1534.1 1543.08 1530.95 1546.3 Q1527.8 1549.52 1522.57 1549.52 Q1516.58 1549.52 1513.4 1544.94 Q1510.23 1540.33 1510.23 1531.6 Q1510.23 1523.41 1514.12 1518.55 Q1518.01 1513.66 1524.56 1513.66 Q1526.32 1513.66 1528.1 1514.01 Q1529.91 1514.36 1531.85 1515.05 Z\" fill=\"#000000\" fill-rule=\"nonzero\" fill-opacity=\"1\" /><path clip-path=\"url(#clip500)\" d=\"M2034.88 1532.44 Q2031.54 1532.44 2029.62 1534.22 Q2027.72 1536 2027.72 1539.13 Q2027.72 1542.25 2029.62 1544.03 Q2031.54 1545.82 2034.88 1545.82 Q2038.21 1545.82 2040.13 1544.03 Q2042.05 1542.23 2042.05 1539.13 Q2042.05 1536 2040.13 1534.22 Q2038.23 1532.44 2034.88 1532.44 M2030.2 1530.45 Q2027.19 1529.7 2025.5 1527.64 Q2023.83 1525.58 2023.83 1522.62 Q2023.83 1518.48 2026.77 1516.07 Q2029.74 1513.66 2034.88 1513.66 Q2040.04 1513.66 2042.98 1516.07 Q2045.92 1518.48 2045.92 1522.62 Q2045.92 1525.58 2044.23 1527.64 Q2042.56 1529.7 2039.57 1530.45 Q2042.95 1531.23 2044.83 1533.52 Q2046.73 1535.82 2046.73 1539.13 Q2046.73 1544.15 2043.65 1546.83 Q2040.59 1549.52 2034.88 1549.52 Q2029.16 1549.52 2026.08 1546.83 Q2023.02 1544.15 2023.02 1539.13 Q2023.02 1535.82 2024.92 1533.52 Q2026.82 1531.23 2030.2 1530.45 M2028.49 1523.06 Q2028.49 1525.75 2030.15 1527.25 Q2031.84 1528.76 2034.88 1528.76 Q2037.89 1528.76 2039.57 1527.25 Q2041.29 1525.75 2041.29 1523.06 Q2041.29 1520.38 2039.57 1518.87 Q2037.89 1517.37 2034.88 1517.37 Q2031.84 1517.37 2030.15 1518.87 Q2028.49 1520.38 2028.49 1523.06 Z\" fill=\"#000000\" fill-rule=\"nonzero\" fill-opacity=\"1\" /><polyline clip-path=\"url(#clip500)\" style=\"stroke:#000000; stroke-linecap:round; stroke-linejoin:round; stroke-width:4; stroke-opacity:1; fill:none\" points=\"178.867,1486.45 178.867,47.2441 \"/>\n",
       "<polyline clip-path=\"url(#clip500)\" style=\"stroke:#000000; stroke-linecap:round; stroke-linejoin:round; stroke-width:4; stroke-opacity:1; fill:none\" points=\"178.867,1431.57 197.764,1431.57 \"/>\n",
       "<polyline clip-path=\"url(#clip500)\" style=\"stroke:#000000; stroke-linecap:round; stroke-linejoin:round; stroke-width:4; stroke-opacity:1; fill:none\" points=\"178.867,1023.87 197.764,1023.87 \"/>\n",
       "<polyline clip-path=\"url(#clip500)\" style=\"stroke:#000000; stroke-linecap:round; stroke-linejoin:round; stroke-width:4; stroke-opacity:1; fill:none\" points=\"178.867,616.166 197.764,616.166 \"/>\n",
       "<polyline clip-path=\"url(#clip500)\" style=\"stroke:#000000; stroke-linecap:round; stroke-linejoin:round; stroke-width:4; stroke-opacity:1; fill:none\" points=\"178.867,208.466 197.764,208.466 \"/>\n",
       "<path clip-path=\"url(#clip500)\" d=\"M50.9921 1432.02 L80.6679 1432.02 L80.6679 1435.95 L50.9921 1435.95 L50.9921 1432.02 Z\" fill=\"#000000\" fill-rule=\"nonzero\" fill-opacity=\"1\" /><path clip-path=\"url(#clip500)\" d=\"M91.5706 1444.91 L99.2095 1444.91 L99.2095 1418.55 L90.8993 1420.21 L90.8993 1415.95 L99.1632 1414.29 L103.839 1414.29 L103.839 1444.91 L111.478 1444.91 L111.478 1448.85 L91.5706 1448.85 L91.5706 1444.91 Z\" fill=\"#000000\" fill-rule=\"nonzero\" fill-opacity=\"1\" /><path clip-path=\"url(#clip500)\" d=\"M130.922 1417.36 Q127.311 1417.36 125.482 1420.93 Q123.677 1424.47 123.677 1431.6 Q123.677 1438.71 125.482 1442.27 Q127.311 1445.81 130.922 1445.81 Q134.556 1445.81 136.362 1442.27 Q138.191 1438.71 138.191 1431.6 Q138.191 1424.47 136.362 1420.93 Q134.556 1417.36 130.922 1417.36 M130.922 1413.66 Q136.732 1413.66 139.788 1418.27 Q142.867 1422.85 142.867 1431.6 Q142.867 1440.33 139.788 1444.93 Q136.732 1449.52 130.922 1449.52 Q125.112 1449.52 122.033 1444.93 Q118.978 1440.33 118.978 1431.6 Q118.978 1422.85 122.033 1418.27 Q125.112 1413.66 130.922 1413.66 Z\" fill=\"#000000\" fill-rule=\"nonzero\" fill-opacity=\"1\" /><path clip-path=\"url(#clip500)\" d=\"M82.1494 1024.32 L111.825 1024.32 L111.825 1028.25 L82.1494 1028.25 L82.1494 1024.32 Z\" fill=\"#000000\" fill-rule=\"nonzero\" fill-opacity=\"1\" /><path clip-path=\"url(#clip500)\" d=\"M121.964 1006.59 L140.32 1006.59 L140.32 1010.52 L126.246 1010.52 L126.246 1018.99 Q127.265 1018.65 128.283 1018.48 Q129.302 1018.3 130.32 1018.3 Q136.107 1018.3 139.487 1021.47 Q142.867 1024.64 142.867 1030.06 Q142.867 1035.64 139.394 1038.74 Q135.922 1041.82 129.603 1041.82 Q127.427 1041.82 125.158 1041.45 Q122.913 1041.08 120.506 1040.34 L120.506 1035.64 Q122.589 1036.77 124.811 1037.33 Q127.033 1037.88 129.51 1037.88 Q133.515 1037.88 135.853 1035.78 Q138.191 1033.67 138.191 1030.06 Q138.191 1026.45 135.853 1024.34 Q133.515 1022.23 129.51 1022.23 Q127.635 1022.23 125.76 1022.65 Q123.908 1023.07 121.964 1023.95 L121.964 1006.59 Z\" fill=\"#000000\" fill-rule=\"nonzero\" fill-opacity=\"1\" /><path clip-path=\"url(#clip500)\" d=\"M130.922 601.965 Q127.311 601.965 125.482 605.529 Q123.677 609.071 123.677 616.201 Q123.677 623.307 125.482 626.872 Q127.311 630.414 130.922 630.414 Q134.556 630.414 136.362 626.872 Q138.191 623.307 138.191 616.201 Q138.191 609.071 136.362 605.529 Q134.556 601.965 130.922 601.965 M130.922 598.261 Q136.732 598.261 139.788 602.867 Q142.867 607.451 142.867 616.201 Q142.867 624.927 139.788 629.534 Q136.732 634.117 130.922 634.117 Q125.112 634.117 122.033 629.534 Q118.978 624.927 118.978 616.201 Q118.978 607.451 122.033 602.867 Q125.112 598.261 130.922 598.261 Z\" fill=\"#000000\" fill-rule=\"nonzero\" fill-opacity=\"1\" /><path clip-path=\"url(#clip500)\" d=\"M121.964 191.186 L140.32 191.186 L140.32 195.121 L126.246 195.121 L126.246 203.593 Q127.265 203.246 128.283 203.084 Q129.302 202.899 130.32 202.899 Q136.107 202.899 139.487 206.07 Q142.867 209.241 142.867 214.658 Q142.867 220.237 139.394 223.338 Q135.922 226.417 129.603 226.417 Q127.427 226.417 125.158 226.047 Q122.913 225.676 120.506 224.936 L120.506 220.237 Q122.589 221.371 124.811 221.926 Q127.033 222.482 129.51 222.482 Q133.515 222.482 135.853 220.376 Q138.191 218.269 138.191 214.658 Q138.191 211.047 135.853 208.94 Q133.515 206.834 129.51 206.834 Q127.635 206.834 125.76 207.251 Q123.908 207.667 121.964 208.547 L121.964 191.186 Z\" fill=\"#000000\" fill-rule=\"nonzero\" fill-opacity=\"1\" /><circle clip-path=\"url(#clip502)\" cx=\"240.392\" cy=\"1445.72\" r=\"14.4\" fill=\"#009af9\" fill-rule=\"evenodd\" fill-opacity=\"1\" stroke=\"#000000\" stroke-opacity=\"1\" stroke-width=\"3.2\"/>\n",
       "<circle clip-path=\"url(#clip502)\" cx=\"496.747\" cy=\"87.9763\" r=\"14.4\" fill=\"#009af9\" fill-rule=\"evenodd\" fill-opacity=\"1\" stroke=\"#000000\" stroke-opacity=\"1\" stroke-width=\"3.2\"/>\n",
       "<circle clip-path=\"url(#clip502)\" cx=\"753.102\" cy=\"572.065\" r=\"14.4\" fill=\"#009af9\" fill-rule=\"evenodd\" fill-opacity=\"1\" stroke=\"#000000\" stroke-opacity=\"1\" stroke-width=\"3.2\"/>\n",
       "<circle clip-path=\"url(#clip502)\" cx=\"1009.46\" cy=\"631.705\" r=\"14.4\" fill=\"#009af9\" fill-rule=\"evenodd\" fill-opacity=\"1\" stroke=\"#000000\" stroke-opacity=\"1\" stroke-width=\"3.2\"/>\n",
       "<circle clip-path=\"url(#clip502)\" cx=\"1265.81\" cy=\"635.356\" r=\"14.4\" fill=\"#009af9\" fill-rule=\"evenodd\" fill-opacity=\"1\" stroke=\"#000000\" stroke-opacity=\"1\" stroke-width=\"3.2\"/>\n",
       "<circle clip-path=\"url(#clip502)\" cx=\"1522.17\" cy=\"648.354\" r=\"14.4\" fill=\"#009af9\" fill-rule=\"evenodd\" fill-opacity=\"1\" stroke=\"#000000\" stroke-opacity=\"1\" stroke-width=\"3.2\"/>\n",
       "<circle clip-path=\"url(#clip502)\" cx=\"1778.52\" cy=\"614.716\" r=\"14.4\" fill=\"#009af9\" fill-rule=\"evenodd\" fill-opacity=\"1\" stroke=\"#000000\" stroke-opacity=\"1\" stroke-width=\"3.2\"/>\n",
       "<circle clip-path=\"url(#clip502)\" cx=\"2034.88\" cy=\"604.575\" r=\"14.4\" fill=\"#009af9\" fill-rule=\"evenodd\" fill-opacity=\"1\" stroke=\"#000000\" stroke-opacity=\"1\" stroke-width=\"3.2\"/>\n",
       "<circle clip-path=\"url(#clip502)\" cx=\"2291.23\" cy=\"637.882\" r=\"14.4\" fill=\"#009af9\" fill-rule=\"evenodd\" fill-opacity=\"1\" stroke=\"#000000\" stroke-opacity=\"1\" stroke-width=\"3.2\"/>\n",
       "<path clip-path=\"url(#clip500)\" d=\"M2010.47 198.898 L2280.29 198.898 L2280.29 95.2176 L2010.47 95.2176  Z\" fill=\"#ffffff\" fill-rule=\"evenodd\" fill-opacity=\"1\"/>\n",
       "<polyline clip-path=\"url(#clip500)\" style=\"stroke:#000000; stroke-linecap:round; stroke-linejoin:round; stroke-width:4; stroke-opacity:1; fill:none\" points=\"2010.47,198.898 2280.29,198.898 2280.29,95.2176 2010.47,95.2176 2010.47,198.898 \"/>\n",
       "<circle clip-path=\"url(#clip500)\" cx=\"2107.09\" cy=\"147.058\" r=\"20.48\" fill=\"#009af9\" fill-rule=\"evenodd\" fill-opacity=\"1\" stroke=\"#000000\" stroke-opacity=\"1\" stroke-width=\"4.55111\"/>\n",
       "<path clip-path=\"url(#clip500)\" d=\"M2217.55 166.745 Q2215.75 171.375 2214.03 172.787 Q2212.32 174.199 2209.45 174.199 L2206.05 174.199 L2206.05 170.634 L2208.55 170.634 Q2210.31 170.634 2211.28 169.8 Q2212.25 168.967 2213.43 165.865 L2214.19 163.921 L2203.71 138.412 L2208.22 138.412 L2216.32 158.689 L2224.43 138.412 L2228.94 138.412 L2217.55 166.745 Z\" fill=\"#000000\" fill-rule=\"nonzero\" fill-opacity=\"1\" /><path clip-path=\"url(#clip500)\" d=\"M2236.23 160.402 L2243.87 160.402 L2243.87 134.037 L2235.56 135.703 L2235.56 131.444 L2243.82 129.778 L2248.5 129.778 L2248.5 160.402 L2256.14 160.402 L2256.14 164.338 L2236.23 164.338 L2236.23 160.402 Z\" fill=\"#000000\" fill-rule=\"nonzero\" fill-opacity=\"1\" /></svg>\n"
      ]
     },
     "metadata": {},
     "output_type": "display_data"
    }
   ],
   "source": [
    "plot(delta_e, seriestype = [:scatter], grid = true, gridalpha = 2, gridcolor = :black)"
   ]
  }
 ],
 "metadata": {
  "kernelspec": {
   "display_name": "Julia 1.11.0",
   "language": "julia",
   "name": "julia-1.11"
  },
  "language_info": {
   "file_extension": ".jl",
   "mimetype": "application/julia",
   "name": "julia",
   "version": "1.11.0"
  }
 },
 "nbformat": 4,
 "nbformat_minor": 2
}
